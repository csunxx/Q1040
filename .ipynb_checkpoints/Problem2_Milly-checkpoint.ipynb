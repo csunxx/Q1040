{
 "cells": [
  {
   "cell_type": "markdown",
   "metadata": {},
   "source": [
    "# K-means algorithm\n",
    "In this exercise, you are going to implement the K-means algorithm using Python. "
   ]
  },
  {
   "cell_type": "markdown",
   "metadata": {},
   "source": [
    "(a) Create 10 2-vectors. Provide an initial guess of the group representatives and choose the number of groups $k$ to be 3. (You may try to change the initial guess later on and see how it affects your results. Be mindful that when you have an empty cluster, your code may not work!)"
   ]
  },
  {
   "cell_type": "code",
   "execution_count": 2,
   "metadata": {},
   "outputs": [],
   "source": [
    "import numpy as np\n",
    "# Create 10 2-vectors\n",
    "x = np.array([[-5,10], [-10,5], [-2,2], [8,5], [5,2], [9,-2], [5,-4], [-2,-5], [-10,-7], [-11,-4]])\n",
    "# Initial guess of 3 centroids\n",
    "z1 = [-10, 0]\n",
    "z2 = [1, 1]\n",
    "z3 = [-10, -8]"
   ]
  },
  {
   "cell_type": "markdown",
   "metadata": {},
   "source": [
    "(b) Write a few lines of code that assign the vectors to different groups. (You may want to define this as a function so you can call it later on.) "
   ]
  },
  {
   "cell_type": "code",
   "execution_count": 14,
   "metadata": {},
   "outputs": [
    {
     "name": "stdout",
     "output_type": "stream",
     "text": [
      "Vector  1  is assigened to group  1.0\n",
      "Vector  2  is assigened to group  1.0\n",
      "Vector  3  is assigened to group  2.0\n",
      "Vector  4  is assigened to group  2.0\n",
      "Vector  5  is assigened to group  2.0\n",
      "Vector  6  is assigened to group  2.0\n",
      "Vector  7  is assigened to group  2.0\n",
      "Vector  8  is assigened to group  2.0\n",
      "Vector  9  is assigened to group  3.0\n",
      "Vector  10  is assigened to group  3.0\n",
      "[1. 1. 2. 2. 2. 2. 2. 2. 3. 3.]\n"
     ]
    }
   ],
   "source": [
    "# assign the i-th vector to its nearest group\n",
    "c = np.zeros(len(x))\n",
    "\n",
    "\n",
    "for i in range(len(x)):\n",
    "    dist1 = np.linalg.norm(x[i]-z1)\n",
    "    dist2 = np.linalg.norm(x[i]-z2)\n",
    "    dist3 = np.linalg.norm(x[i]-z3)\n",
    "    min_dist = min(dist1,dist2,dist3)\n",
    "    if min_dist == dist1:\n",
    "        c[i] = 1 #vector xi is assignned to group 1\n",
    "    elif min_dist == dist2:\n",
    "        c[i] = 2 #vector xi is assignned to group 2\n",
    "    else: # min_dist == dist3:\n",
    "        c[i] = 3 #vector xi is assignned to group 3\n",
    "    print(\"Vector \", i+1, \" is assigened to group \", c[i])\n",
    "print(c)"
   ]
  },
  {
   "cell_type": "markdown",
   "metadata": {},
   "source": [
    "(c) Write a few lines of code that compute the centroid. (You may want to define this as a function so you can call it later on.) "
   ]
  },
  {
   "cell_type": "code",
   "execution_count": 17,
   "metadata": {},
   "outputs": [],
   "source": [
    "# calculate new centroids\n",
    "cent1 = np.array([0,0]);\n",
    "cent2 = np.array([0,0]);\n",
    "cent3 = np.array([0,0]);\n",
    "# initialise counters\n",
    "cnt1 = 0;cnt2 = 0;cnt3 = 0;\n",
    "\n",
    "for i in range(len(x)):\n",
    "    if c[i] == 1:\n",
    "        cent1 = cent1 + x[i]\n",
    "        cnt1 = cnt1 + 1\n",
    "    elif c[i] == 2:\n",
    "        cent2 = cent2 + x[i]\n",
    "        cnt2 = cnt2 + 1\n",
    "    else: #c[i] ==3:\n",
    "        cent3 = cent3 + x[i]\n",
    "        cnt3 = cnt3 + 1\n",
    "    \n",
    "z1 = cent1 / cnt1\n",
    "z2 = cent2 / cnt2\n",
    "z3 = cent3 / cnt3"
   ]
  },
  {
   "cell_type": "markdown",
   "metadata": {},
   "source": [
    "(d) Compute the clustering objective value $J$."
   ]
  },
  {
   "cell_type": "code",
   "execution_count": 16,
   "metadata": {},
   "outputs": [
    {
     "name": "stdout",
     "output_type": "stream",
     "text": [
      "J_obj =  36.579591836734686\n"
     ]
    }
   ],
   "source": [
    "# objective function after Iteration 1\n",
    "J_obj = 0\n",
    "for i in range(len(x)):\n",
    "    if c[i] == 1: # if the vector xi is in group 1\n",
    "        J_obj = J_obj + np.linalg.norm(x[i]-z1)**2\n",
    "    elif c[i] == 2:\n",
    "        J_obj = J_obj + np.linalg.norm(x[i]-z2)**2\n",
    "    else: #c[i] == 3:\n",
    "        J_obj = J_obj + np.linalg.norm(x[i]-z3)**2\n",
    "        \n",
    "J_obj = J_obj/len(x)\n",
    "print('J_obj = ',J_obj)"
   ]
  },
  {
   "cell_type": "markdown",
   "metadata": {},
   "source": [
    "(e) Perform 2 iterations using the code you have written in part (b) - (d)."
   ]
  },
  {
   "cell_type": "code",
   "execution_count": null,
   "metadata": {},
   "outputs": [],
   "source": [
    "#Your code here"
   ]
  },
  {
   "cell_type": "markdown",
   "metadata": {},
   "source": [
    "(f) By defining part (b) - (d) as functions, perform 1000 iterations."
   ]
  },
  {
   "cell_type": "code",
   "execution_count": null,
   "metadata": {},
   "outputs": [],
   "source": [
    "nunmber_of_iterations = 10\n",
    "J_obj_vector = [];\n",
    "for M in range(number_of_iterations):\n",
    "    #Perform Group Assignment here\n",
    "    \n",
    "    #Perform Centroid Calculation\n",
    "    \n",
    "    #Calculate the objective function\n",
    "    \n",
    "    #Store the objective function\n",
    "    J_obj_vector.append(J_obj);\n"
   ]
  }
 ],
 "metadata": {
  "kernelspec": {
   "display_name": "Python 3",
   "language": "python",
   "name": "python3"
  },
  "language_info": {
   "codemirror_mode": {
    "name": "ipython",
    "version": 3
   },
   "file_extension": ".py",
   "mimetype": "text/x-python",
   "name": "python",
   "nbconvert_exporter": "python",
   "pygments_lexer": "ipython3",
   "version": "3.6.5"
  }
 },
 "nbformat": 4,
 "nbformat_minor": 2
}
