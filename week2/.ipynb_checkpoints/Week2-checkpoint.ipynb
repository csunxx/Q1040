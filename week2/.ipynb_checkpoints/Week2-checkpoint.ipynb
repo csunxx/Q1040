{
 "cells": [
  {
   "cell_type": "markdown",
   "metadata": {},
   "source": [
    "# QBUSS 1040 Week2"
   ]
  },
  {
   "cell_type": "markdown",
   "metadata": {},
   "source": [
    "## Contents\n",
    "\n",
    "- Qbuss 1040 Week2\n",
    "    - [Math](#Math)\n",
    "\n",
    "    - [Coding](#Coding)\n"
   ]
  },
  {
   "cell_type": "markdown",
   "metadata": {},
   "source": [
    "## Math"
   ]
  },
  {
   "cell_type": "markdown",
   "metadata": {},
   "source": [
    "### Derivative (See xx page 443)\n",
    "\n",
    "#### 1. Scalar-valued functions\n",
    "Examples:\n",
    "\n",
    "1.1 Taylor Approximation at point $z$\n",
    "\n",
    "#### 2. Scalar-valued functions of a vector\n",
    "Examples: \n",
    "\n",
    "2.1 Partial Derivatives & __Gradient__\n",
    " \n",
    "2.2 Taylor Approximation\n",
    "\n"
   ]
  },
  {
   "cell_type": "markdown",
   "metadata": {},
   "source": [
    "### Inner Product and Norm\n",
    "\n",
    "The *inner product* of vectors $ x,y \\in \\mathbb R^n $ is defined as \n",
    "\n",
    "$$\n",
    "x^T y := \\sum_{i=1}^n x_i y_i\n",
    "$$\n",
    "\n",
    "Two vectors are orthogonal if their inner product is 0.\n",
    "\n",
    "The *norm* of a vector $x$ is defined as\n",
    "\n",
    "$$\n",
    "\\| x \\| := \\sqrt{x^T x}\n",
    "$$\n"
   ]
  },
  {
   "cell_type": "markdown",
   "metadata": {},
   "source": [
    "## Coding "
   ]
  },
  {
   "cell_type": "markdown",
   "metadata": {},
   "source": [
    "### Vector in Python\n",
    "\n",
    "Last week we used `list` to create vectors in Python. \n",
    "\n",
    "For example `[1,2,3]` will generate a 3-vector.\n",
    "\n",
    "Another way to create vectors in Python"
   ]
  },
  {
   "cell_type": "code",
   "execution_count": 1,
   "metadata": {},
   "outputs": [
    {
     "data": {
      "text/plain": [
       "<function numpy.core.multiarray.array>"
      ]
     },
     "execution_count": 1,
     "metadata": {},
     "output_type": "execute_result"
    }
   ],
   "source": [
    "import numpy as np\n",
    "np.array()"
   ]
  },
  {
   "cell_type": "markdown",
   "metadata": {},
   "source": [
    "### Inner Product and Norm in Python\n",
    "\n",
    "1. Call built-in functio in `numpy` module\n",
    "2. Use `For` Loop\n"
   ]
  },
  {
   "cell_type": "code",
   "execution_count": null,
   "metadata": {},
   "outputs": [],
   "source": []
  }
 ],
 "metadata": {
  "kernelspec": {
   "display_name": "Python 3",
   "language": "python",
   "name": "python3"
  },
  "language_info": {
   "codemirror_mode": {
    "name": "ipython",
    "version": 3
   },
   "file_extension": ".py",
   "mimetype": "text/x-python",
   "name": "python",
   "nbconvert_exporter": "python",
   "pygments_lexer": "ipython3",
   "version": "3.6.5"
  }
 },
 "nbformat": 4,
 "nbformat_minor": 2
}
