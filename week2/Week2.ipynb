{
 "cells": [
  {
   "cell_type": "markdown",
   "metadata": {},
   "source": [
    "# QBUSS 1040 Week2"
   ]
  },
  {
   "cell_type": "markdown",
   "metadata": {},
   "source": [
    "# Agenda\n",
    "\n",
    "\n",
    "1. Question 5 and 6 \n",
    "2. Question 2\n",
    "\n",
    "    Linear/Affine function\n",
    "    \n",
    "3. Question 4\n",
    "\n",
    "   The main concept here is `for` loop. \n",
    "\n",
    "4. Question 1 (Optional)\n",
    "\n",
    "\n",
    "Note: Question 3 (Norm) will not be mentioned. "
   ]
  },
  {
   "cell_type": "markdown",
   "metadata": {},
   "source": [
    "### Question 5 & 6"
   ]
  },
  {
   "cell_type": "markdown",
   "metadata": {},
   "source": [
    "Question 6: \n",
    "\n",
    "__Word count vector__\n",
    "\n",
    "One example: See textbook pp. 20/473. \n",
    "\n",
    "Given some text: *Word count vectors are used in computer based document analysis.*\n",
    "\n",
    "\n",
    "Dictionary: *(word, in, number, hello, document, the, analysis)*\n",
    "\n",
    "The associated word count vector will be `(?,?,?,?,?)`.\n",
    "\n",
    "\n",
    "__NOTE:__ For Question 6, we assume that all words in the document appear in the dictionary. "
   ]
  },
  {
   "cell_type": "code",
   "execution_count": null,
   "metadata": {},
   "outputs": [],
   "source": []
  },
  {
   "cell_type": "markdown",
   "metadata": {},
   "source": [
    "Question 5:\n",
    "\n",
    "1. Boolean value. In Python, \n",
    "\n",
    "    ```python\n",
    "    True\n",
    "    False        \n",
    "    ```\n",
    "\n",
    "2. Vector addition and scalar multplication."
   ]
  },
  {
   "cell_type": "markdown",
   "metadata": {},
   "source": [
    "### Question 2"
   ]
  },
  {
   "cell_type": "markdown",
   "metadata": {},
   "source": [
    "Some review of:\n",
    "\n",
    "1. Linear Function\n",
    "\n",
    "    **Superposition Property**: $f(\\alpha x + \\beta y) = \\alpha f(x) + \\beta f(y)$\n",
    "    \n",
    "    Inner product representation\n",
    "    \n",
    "\n",
    "2. Affine Function\n",
    "\n",
    "    Regression Model\n",
    "    \n",
    "    \n",
    "3. Norm\n",
    "\n",
    "    $||x|| := \\sqrt(x^Tx) $\n",
    "    \n",
    "    \n",
    "4. A liitle bit on what is vaild inner product operation \n",
    "\n",
    "    See Textbook pp 29 of 473"
   ]
  },
  {
   "cell_type": "markdown",
   "metadata": {},
   "source": [
    "### Question 5"
   ]
  },
  {
   "cell_type": "markdown",
   "metadata": {},
   "source": [
    "#### Vector in Python\n",
    "\n",
    "Last week we used `list` to create vectors in Python. \n",
    "\n",
    "For example `[1,2,3]` will generate a 3-vector.\n",
    "\n",
    "Today, we will introduce another way to create vectors in Python.\n",
    "\n",
    "1. Module `numpy`\n",
    "\n",
    "2. Function `array`\n",
    "\n",
    "3. Function call"
   ]
  },
  {
   "cell_type": "code",
   "execution_count": null,
   "metadata": {},
   "outputs": [],
   "source": [
    "import numpy as np\n",
    "np.array()"
   ]
  },
  {
   "cell_type": "markdown",
   "metadata": {},
   "source": [
    "###  Question 1 (Optional)"
   ]
  },
  {
   "cell_type": "markdown",
   "metadata": {},
   "source": []
  }
 ],
 "metadata": {
  "kernelspec": {
   "display_name": "Python 3",
   "language": "python",
   "name": "python3"
  },
  "language_info": {
   "codemirror_mode": {
    "name": "ipython",
    "version": 3
   },
   "file_extension": ".py",
   "mimetype": "text/x-python",
   "name": "python",
   "nbconvert_exporter": "python",
   "pygments_lexer": "ipython3",
   "version": "3.6.5"
  }
 },
 "nbformat": 4,
 "nbformat_minor": 2
}
