{
 "cells": [
  {
   "cell_type": "markdown",
   "metadata": {},
   "source": [
    "# QBUSS 1040 Week2"
   ]
  },
  {
   "cell_type": "markdown",
   "metadata": {},
   "source": [
    "# Agenda\n",
    "\n",
    "\n",
    "1. Question 1 and 2 \n",
    "2. Question 3\n",
    "\n",
    "    Linear/Affine function\n",
    "    \n",
    "    \n",
    "3. Question 4\n",
    "\n",
    "   `for` loop in Python \n",
    "   \n",
    "\n",
    "4. Question 5 (Optional)\n",
    "\n"
   ]
  },
  {
   "cell_type": "markdown",
   "metadata": {},
   "source": [
    "### Question 5 & 6"
   ]
  },
  {
   "cell_type": "markdown",
   "metadata": {},
   "source": [
    "Question 6: \n",
    "\n",
    "__Word count vector__\n",
    "\n",
    "One example: See textbook pp. 20/473. \n",
    "\n",
    "Given some text: *Word count vectors are used in computer based document analysis.*\n",
    "\n",
    "\n",
    "Dictionary: *(word, in, number, hello, document, the, analysis)*\n",
    "\n",
    "The associated word count vector will be `(?,?,?,?,?)`.\n",
    "\n",
    "\n",
    "__NOTE:__ For Question 6, we assume that all words in the document appear in the dictionary. "
   ]
  },
  {
   "cell_type": "code",
   "execution_count": null,
   "metadata": {},
   "outputs": [],
   "source": []
  },
  {
   "cell_type": "markdown",
   "metadata": {},
   "source": [
    "Question 5:\n",
    "\n",
    "1. Boolean value. In Python, \n",
    "\n",
    "    ```python\n",
    "    True\n",
    "    False        \n",
    "    ```\n",
    "\n",
    "2. Vector addition and scalar multiplication."
   ]
  },
  {
   "cell_type": "markdown",
   "metadata": {},
   "source": [
    "### Question 2"
   ]
  },
  {
   "cell_type": "markdown",
   "metadata": {},
   "source": [
    "Suppose function $f: \\mathbb R^n \\rightarrow \\mathbb R$ \n",
    "\n",
    "Some review of:\n",
    "\n",
    "1. Linear Function\n",
    "\n",
    "    **Superposition Property**: $f(\\alpha x + \\beta y) = \\alpha f(x) + \\beta f(y)$\n",
    "    \n",
    "    **Inner product representation** (Two proofs)\n",
    "    \n",
    "\n",
    "2. Affine Function\n",
    "\n",
    "    Defition: A linear function plus a constant. (Representation?)\n",
    "    \n",
    "    **Superposition Property** holds when? Proof? \n",
    "    \n",
    "    \n",
    "3. Norm\n",
    "\n",
    "    $||x|| := \\sqrt{x^Tx} $\n",
    "    \n",
    "    \n",
    "4. Valid inner product operations \n",
    "\n",
    "    See Textbook pp 29 of 473"
   ]
  },
  {
   "cell_type": "markdown",
   "metadata": {},
   "source": [
    "### Question 5"
   ]
  },
  {
   "cell_type": "markdown",
   "metadata": {},
   "source": [
    "#### Vector in Python\n",
    "\n",
    "Last week we used `list` to create vectors in Python. \n",
    "\n",
    "For example `[1,2,3]` in Python will generate a 3-vector.\n",
    "\n",
    "Today, we will introduce another way to create vectors in Python.\n",
    "\n",
    "1. Package `numpy`\n",
    "\n",
    "2. Function `array`\n",
    "\n",
    "3. Function call"
   ]
  },
  {
   "cell_type": "code",
   "execution_count": null,
   "metadata": {},
   "outputs": [],
   "source": [
    "import numpy as np\n",
    "np.array()"
   ]
  },
  {
   "cell_type": "markdown",
   "metadata": {},
   "source": [
    "#### Loop in Python\n",
    "\n",
    "Goal: Do the same thing many times. \n",
    "\n",
    "1. Loop over lists or some other objects in Python.\n",
    "\n",
    "2. Loop over counters (`range` function )\n"
   ]
  },
  {
   "cell_type": "code",
   "execution_count": null,
   "metadata": {},
   "outputs": [],
   "source": [
    "# Example 1: Loop over a list\n",
    "for element in ['a','b','c']:\n",
    "    print (element)"
   ]
  },
  {
   "cell_type": "code",
   "execution_count": null,
   "metadata": {},
   "outputs": [],
   "source": [
    "# Example 2: Loop over a range function\n",
    "for i in range(3):\n",
    "    print(i)"
   ]
  },
  {
   "cell_type": "code",
   "execution_count": null,
   "metadata": {},
   "outputs": [],
   "source": [
    "# Example 3: \n",
    "x = ['a','b','c']\n",
    "for i in range(3):\n",
    "    print (x[i])"
   ]
  },
  {
   "cell_type": "markdown",
   "metadata": {},
   "source": [
    "###  Question 1 (Optional)"
   ]
  }
 ],
 "metadata": {
  "kernelspec": {
   "display_name": "Python 3",
   "language": "python",
   "name": "python3"
  },
  "language_info": {
   "codemirror_mode": {
    "name": "ipython",
    "version": 3
   },
   "file_extension": ".py",
   "mimetype": "text/x-python",
   "name": "python",
   "nbconvert_exporter": "python",
   "pygments_lexer": "ipython3",
   "version": "3.6.5"
  }
 },
 "nbformat": 4,
 "nbformat_minor": 2
}
