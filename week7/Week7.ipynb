{
 "cells": [
  {
   "cell_type": "markdown",
   "metadata": {},
   "source": [
    "# QBUSS1040 Week 7 Outline \n",
    "\n",
    "Author: Chenfei \n",
    "\n",
    "---\n",
    "\n",
    "Outline:\n",
    "\n",
    "1. Block Matrix (Problem 4) \n",
    "2. Matrix multiplication\n",
    "    + Definition \n",
    "    + Properties, Proof and Complexity (Problem 3)\n",
    "    + Coding (Problem 1)\n",
    "3. QR Factorization (Problem 2)\n",
    "    + Review \n",
    "    + Coding "
   ]
  },
  {
   "cell_type": "markdown",
   "metadata": {},
   "source": [
    "## Matrix multiplication\n",
    "\n",
    "Definition \n",
    "\n",
    "$AB=C$ \n",
    "\n",
    "1. Dimension check \n",
    "2. \\begin{equation} C_{i,j} =  \\text{inner}(\\>  ,\\> ) =\\sum_{}  \\end{equation}\n",
    "   \n",
    "3. Column and row interpretation (optional)\n",
    "4. Coding\n",
    "\n",
    " \n",
    "\n",
    "Properties of matrix multiplication \n",
    "1. Associativity\n",
    "    \\begin{equation}(AB)C = A(BC) \\end{equation}\n",
    "2. Associativity with scalar multiplication \n",
    "    \\begin{equation} \\gamma (AB) = (\\gamma A)B \\end{equation}\n",
    "3. Distributivity with addition\n",
    "    \\begin{equation}A(B+C) = AB + BC \\end{equation}\n",
    "4. Transpose of product\n",
    "    \\begin{equation}(AB)^{T} = B^{T}A^{T} \\end{equation}\n",
    "\n",
    "\n",
    "_Proof_ of Associativity \n",
    "\n",
    "\n",
    "\n",
    "__Complexity__ for both sides. Q: Are they same, different or dependent on different situations? "
   ]
  },
  {
   "cell_type": "markdown",
   "metadata": {},
   "source": [
    "## QR factorization \n",
    "\n",
    "Input: Matrix $A$ `nxk`, assume ...\n",
    "\n",
    "Goal: Decompose $A$ into matrix $Q$ and $R$ with special properties.\n",
    "\n",
    "1. $Q$ Matrix\n",
    "    - Construction: \n",
    "    \\begin{equation}\n",
    "    \\begin{bmatrix} q_1, q_2, ...,q_?  \\end{bmatrix}\n",
    "    \\end{equation}\n",
    "    - Properties:\n",
    "    \n",
    "    \n",
    "2. $R$ Matrix \n",
    "    - Construction:\n",
    "    - Properties:\n",
    "    \n",
    "3. Coding \n",
    "\n",
    "4. Verify (Take home)"
   ]
  }
 ],
 "metadata": {
  "kernelspec": {
   "display_name": "Python 3",
   "language": "python",
   "name": "python3"
  },
  "language_info": {
   "codemirror_mode": {
    "name": "ipython",
    "version": 3
   },
   "file_extension": ".py",
   "mimetype": "text/x-python",
   "name": "python",
   "nbconvert_exporter": "python",
   "pygments_lexer": "ipython3",
   "version": "3.6.5"
  }
 },
 "nbformat": 4,
 "nbformat_minor": 2
}
