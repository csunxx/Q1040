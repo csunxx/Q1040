{
 "cells": [
  {
   "cell_type": "markdown",
   "metadata": {},
   "source": [
    "# QBUSS 1040 Week3"
   ]
  },
  {
   "cell_type": "markdown",
   "metadata": {},
   "source": [
    "## Outline\n",
    "- [Week3](#QBUSS-1040-Week3)  \n",
    "  - [Problem 1](#Problem-1)  \n",
    "      - Inner product\n",
    "      - Norm \n",
    "      - Distance \n",
    "      - Angle\n",
    "  \n",
    "  - [Problem 2: K-Mean Algo](#Problem-2)  \n",
    "      - K-Mean Review\n",
    "          - Step1 : Fixed Centroid, find group assignment vector\n",
    "          - Step2 : Fixed group assignment vector, find new centroid"
   ]
  },
  {
   "cell_type": "markdown",
   "metadata": {},
   "source": [
    "### Problem 1"
   ]
  },
  {
   "cell_type": "markdown",
   "metadata": {},
   "source": [
    "Things to take care:\n",
    "\n",
    "1. For loop \n",
    "\n",
    "2. **Indentation** in Python\n",
    "\n",
    "3. Function call "
   ]
  },
  {
   "cell_type": "code",
   "execution_count": null,
   "metadata": {},
   "outputs": [],
   "source": [
    "import numpy as np"
   ]
  },
  {
   "cell_type": "code",
   "execution_count": null,
   "metadata": {},
   "outputs": [],
   "source": [
    "def inner (a,x):\n",
    "    # check dimension (Optional)\n",
    "    n = len(a)\n",
    "    if n != len(x):\n",
    "        print(\"Vector a and x has different number of elements\")\n",
    "        return \n",
    "    result = 0 \n",
    "    for i in range(n):\n",
    "        result += a[i]*x[i]\n",
    "    return result \n",
    " \n",
    "def norm (a):\n",
    "    return inner(a,a)**0.5\n",
    "# norm = lambda a : inner(a,a)**0.5\n",
    "    \n",
    "def dis (a,x):\n",
    "    # return inner(a-x)**0.5\n",
    "    return norm(a-x)\n",
    "\n",
    "def angle (a,x):\n",
    "    return np.arccos(inner(a,x)/(norm(a)*norm(x)))/np.pi*180       "
   ]
  },
  {
   "cell_type": "code",
   "execution_count": null,
   "metadata": {},
   "outputs": [],
   "source": [
    "# Test your code \n",
    "a = np.array([1,3,4])\n",
    "x = np.array([4,3,5])\n",
    "angle(a,x)"
   ]
  },
  {
   "cell_type": "code",
   "execution_count": null,
   "metadata": {},
   "outputs": [],
   "source": [
    "def min_dist (a, X):\n",
    "    \"\"\"\n",
    "    Inputs: A vector: a\n",
    "            A list of vectors: X\n",
    "    Return: The minimum distance\n",
    "    \"\"\" \n",
    "    num = len(X)\n",
    "    \n",
    "    min_distance = dis(X[0],a)\n",
    "    for i in range(num):\n",
    "        if min_distance > dis(X[i],a):\n",
    "            min_distance = dis(X[i],a)\n",
    "        # else:\n",
    "    return min_distance"
   ]
  },
  {
   "cell_type": "code",
   "execution_count": null,
   "metadata": {},
   "outputs": [],
   "source": [
    "def min_angle(a, X):\n",
    "    return "
   ]
  },
  {
   "cell_type": "markdown",
   "metadata": {},
   "source": [
    "### Problem 2"
   ]
  },
  {
   "cell_type": "markdown",
   "metadata": {},
   "source": [
    "Review of K-Mean Algo\n"
   ]
  }
 ],
 "metadata": {
  "kernelspec": {
   "display_name": "Python 3",
   "language": "python",
   "name": "python3"
  },
  "language_info": {
   "codemirror_mode": {
    "name": "ipython",
    "version": 3
   },
   "file_extension": ".py",
   "mimetype": "text/x-python",
   "name": "python",
   "nbconvert_exporter": "python",
   "pygments_lexer": "ipython3",
   "version": "3.6.5"
  }
 },
 "nbformat": 4,
 "nbformat_minor": 2
}
