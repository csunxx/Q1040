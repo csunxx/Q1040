{
 "cells": [
  {
   "cell_type": "code",
   "execution_count": 33,
   "metadata": {},
   "outputs": [],
   "source": [
    "def gs_alg(a_list):\n",
    "    qi_list = []\n",
    "    for k in range(len(a_list)):\n",
    "        # Orthogonization \n",
    "        qi_tilde = a_list[k]\n",
    "        for i in qi_list:\n",
    "            qi_tilde = qi_tilde - np.dot(i,a_list[k])*i\n",
    "        if np.linalg.norm(qi_tilde) < 1e-6:\n",
    "            print(\"These vector are linearly dependent. Thus, Gram-Schmidt algorithm terminates at iteration \", k+1)\n",
    "            return qi_list\n",
    "        #Normalization\n",
    "        else:\n",
    "            qi = qi_tilde/np.linalg.norm(qi_tilde)\n",
    "            qi_list.append(qi)\n",
    "    print(\"These vector are linearly independent.\")\n",
    "    return qi_list"
   ]
  },
  {
   "cell_type": "code",
   "execution_count": 25,
   "metadata": {},
   "outputs": [],
   "source": [
    "import numpy as np\n",
    "def gs_alg(a_list):\n",
    "    qi_list = []\n",
    "    for k in range(len(a_list)):\n",
    "        # Orthogonization \n",
    "        qi_tilde = a_list[k]\n",
    "        # length of qi_list is k-1\n",
    "        print(len(qi_list)==(k))\n",
    "        for i in range(k):\n",
    "            qi_tilde = qi_tilde - np.dot(qi_list[i],a_list[k])*qi_list[i]\n",
    "            print('Iteration:',k+1,'qi_tild',qi_tilde)\n",
    "        if np.linalg.norm(qi_tilde) < 1e-6:\n",
    "            print(\"These vector are linearly dependent. Thus, Gram-Schmidt algorithm terminates at iteration \", k+1)\n",
    "            return qi_list\n",
    "        #Normalization\n",
    "        else:\n",
    "            qi = qi_tilde/np.linalg.norm(qi_tilde)\n",
    "            qi_list.append(qi)\n",
    "    print(\"These vector are linearly independent.\")\n",
    "    return qi_list"
   ]
  },
  {
   "cell_type": "code",
   "execution_count": 26,
   "metadata": {},
   "outputs": [
    {
     "name": "stdout",
     "output_type": "stream",
     "text": [
      "True\n",
      "True\n",
      "Iteration: 2 qi_tild [1. 1. 0. 0.]\n",
      "True\n",
      "Iteration: 3 qi_tild [2. 2. 0. 0.]\n",
      "Iteration: 3 qi_tild [4.4408921e-16 4.4408921e-16 0.0000000e+00 0.0000000e+00]\n",
      "These vector are linearly dependent. Thus, Gram-Schmidt algorithm terminates at iteration  3\n",
      "[[0.         0.         1.         0.        ]\n",
      " [0.70710678 0.70710678 0.         0.        ]]\n"
     ]
    }
   ],
   "source": [
    "#Implement your Gram-Schmidt algorithm\n",
    "# a linear independent example\n",
    "#a_list = np.array([[0,0,1,0], [1,1,0,0], [1,-1,0,0], [1,1,1,4]])\n",
    "#K = np.array(gs_alg(a_list))\n",
    "#print(K)\n",
    "# a linear dependent example\n",
    "b_list = np.array([[0,0,1,0], [1,1,0,0], [2,2,0,0], [3,3,0,0]])\n",
    "K = np.array(gs_alg(b_list))\n",
    "print(K)"
   ]
  }
 ],
 "metadata": {
  "anaconda-cloud": {},
  "kernelspec": {
   "display_name": "Python 3",
   "language": "python",
   "name": "python3"
  },
  "language_info": {
   "codemirror_mode": {
    "name": "ipython",
    "version": 3
   },
   "file_extension": ".py",
   "mimetype": "text/x-python",
   "name": "python",
   "nbconvert_exporter": "python",
   "pygments_lexer": "ipython3",
   "version": "3.6.5"
  }
 },
 "nbformat": 4,
 "nbformat_minor": 2
}
