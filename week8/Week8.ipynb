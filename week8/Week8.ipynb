{
 "cells": [
  {
   "cell_type": "markdown",
   "metadata": {},
   "source": [
    "# QBUSS1040 Week 8 Outline \n",
    "\n",
    "Author: Chenfei \n",
    "\n",
    "---\n",
    "\n",
    "Outline:\n",
    "\n",
    "1. Exam questions\n",
    "2. Summary table of matrix inverse\n",
    "3. Solve system of linear equations via QR\n",
    "    + Numerical example \n",
    "    + Coding \n",
    "4. Problem 3: Middle Inverse "
   ]
  },
  {
   "cell_type": "markdown",
   "metadata": {},
   "source": [
    "## Exam questions\n"
   ]
  },
  {
   "cell_type": "markdown",
   "metadata": {},
   "source": [
    "## Matrix Inverse"
   ]
  },
  {
   "cell_type": "markdown",
   "metadata": {},
   "source": [
    "## Solve linear equations\n",
    "\n",
    "### Review \n",
    "\n",
    "Assume matrix $A$ is an __invertible__ square or tall matrix with linearly independent columns. \n",
    "$A$ has $m$ rows and $n$ columns, \n",
    "\\begin{equation}\n",
    " Ax = b\n",
    "\\end{equation}\n",
    "\n",
    "\\begin{equation}\n",
    " QRx = b   \n",
    "\\end{equation}\n",
    "\n",
    "__Back substitution__\n",
    "\n",
    "Algorithm 11.1 (Page 207)\n",
    "\n",
    "Input:\n",
    "\n",
    "Output:\n",
    "\n",
    "Complexity? \n",
    "\n",
    "### Numerical example\n",
    "(Page 216)\n",
    "\n",
    "\\begin{equation}\n",
    "    \\begin{bmatrix} -3 & -4 \\\\\n",
    "    4 & 6 \\\\\n",
    "    1 & 1 \n",
    "    \\end{bmatrix} \\mathbf{X} = \\begin{bmatrix} 1 \\\\ -2 \\\\ 0 \\end{bmatrix}\n",
    "\\end{equation}\n",
    "\n",
    "Another example, what is your finding?\n",
    "\\begin{equation}\n",
    "    \\begin{bmatrix} 1 & 3 \\\\\n",
    "    2 & 4 \\\\\n",
    "    0 & 0 \n",
    "    \\end{bmatrix} \\mathbf{X} = \\begin{bmatrix} 5 \\\\ 6 \\\\ 7 \\end{bmatrix}\n",
    "\\end{equation}\n",
    "\n",
    "### Coding \n",
    "1. Copy the QR file from previous week's tutorial.\n",
    "2. Code the back substitution function."
   ]
  },
  {
   "cell_type": "markdown",
   "metadata": {},
   "source": [
    "## Middle inverse"
   ]
  }
 ],
 "metadata": {
  "kernelspec": {
   "display_name": "Python 3",
   "language": "python",
   "name": "python3"
  },
  "language_info": {
   "codemirror_mode": {
    "name": "ipython",
    "version": 3
   },
   "file_extension": ".py",
   "mimetype": "text/x-python",
   "name": "python",
   "nbconvert_exporter": "python",
   "pygments_lexer": "ipython3",
   "version": "3.6.5"
  }
 },
 "nbformat": 4,
 "nbformat_minor": 2
}
